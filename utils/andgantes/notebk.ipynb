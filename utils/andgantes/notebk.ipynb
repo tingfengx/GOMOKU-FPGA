{
 "cells": [
  {
   "cell_type": "markdown",
   "metadata": {},
   "source": [
    "## HARDED CODED LOGICAL AND GATES\n",
    "### For the GOMOKU project, CSC258, Fall 2019 offering\n",
    "\n",
    "#### Rationale  \n",
    "Sry, I can't think of a better way to code this up..."
   ]
  },
  {
   "cell_type": "code",
   "execution_count": 1,
   "metadata": {},
   "outputs": [
    {
     "name": "stdout",
     "output_type": "stream",
     "text": [
      "assign outres[0] = board[0][0] && board[1][0] && board[2][0] && board[3][0] && board[4][0];\n"
     ]
    }
   ],
   "source": [
    "print(\"assign outres[0] = board[0][0] && board[1][0] && board[2][0] && board[3][0] && board[4][0];\")"
   ]
  },
  {
   "cell_type": "code",
   "execution_count": 4,
   "metadata": {},
   "outputs": [
    {
     "name": "stdout",
     "output_type": "stream",
     "text": [
      "assign outres[?] = board[2][0] && board[3][0] && board[4][0] && board[5][0] && board[6][0];\n",
      "assign outres[?] = board[2][1] && board[3][1] && board[4][1] && board[5][1] && board[6][1];\n",
      "assign outres[?] = board[2][2] && board[3][2] && board[4][2] && board[5][2] && board[6][2];\n",
      "assign outres[?] = board[2][3] && board[3][3] && board[4][3] && board[5][3] && board[6][3];\n",
      "assign outres[?] = board[2][4] && board[3][4] && board[4][4] && board[5][4] && board[6][4];\n",
      "assign outres[?] = board[2][5] && board[3][5] && board[4][5] && board[5][5] && board[6][5];\n",
      "assign outres[?] = board[2][6] && board[3][6] && board[4][6] && board[5][6] && board[6][6];\n"
     ]
    }
   ],
   "source": [
    "for i in range(0, 7):\n",
    "    print(\"assign outres[?] = board[2][X] && board[3][X] && board[4][X] && board[5][X] && board[6][X];\".replace(\"X\", str(i)))"
   ]
  },
  {
   "cell_type": "code",
   "execution_count": 5,
   "metadata": {},
   "outputs": [
    {
     "name": "stdout",
     "output_type": "stream",
     "text": [
      "assign outres[?] = board[0][0] && board[0][1] && board[0][2] && board[0][3] && board[0][4];\n",
      "assign outres[?] = board[1][0] && board[1][1] && board[1][2] && board[1][3] && board[1][4];\n",
      "assign outres[?] = board[2][0] && board[2][1] && board[2][2] && board[2][3] && board[2][4];\n",
      "assign outres[?] = board[3][0] && board[3][1] && board[3][2] && board[3][3] && board[3][4];\n",
      "assign outres[?] = board[4][0] && board[4][1] && board[4][2] && board[4][3] && board[4][4];\n",
      "assign outres[?] = board[5][0] && board[5][1] && board[5][2] && board[5][3] && board[5][4];\n",
      "assign outres[?] = board[6][0] && board[6][1] && board[6][2] && board[6][3] && board[6][4];\n"
     ]
    }
   ],
   "source": [
    "for i in range(0, 7):\n",
    "    print(\"assign outres[?] = board[X][0] && board[X][1] && board[X][2] && board[X][3] && board[X][4];\".replace(\"X\", str(i)))"
   ]
  },
  {
   "cell_type": "code",
   "execution_count": 6,
   "metadata": {},
   "outputs": [
    {
     "name": "stdout",
     "output_type": "stream",
     "text": [
      "assign outres[?] = board[0][1] && board[0][2] && board[0][3] && board[0][4] && board[0][5];\n",
      "assign outres[?] = board[1][1] && board[1][2] && board[1][3] && board[1][4] && board[1][5];\n",
      "assign outres[?] = board[2][1] && board[2][2] && board[2][3] && board[2][4] && board[2][5];\n",
      "assign outres[?] = board[3][1] && board[3][2] && board[3][3] && board[3][4] && board[3][5];\n",
      "assign outres[?] = board[4][1] && board[4][2] && board[4][3] && board[4][4] && board[4][5];\n",
      "assign outres[?] = board[5][1] && board[5][2] && board[5][3] && board[5][4] && board[5][5];\n",
      "assign outres[?] = board[6][1] && board[6][2] && board[6][3] && board[6][4] && board[6][5];\n"
     ]
    }
   ],
   "source": [
    "for i in range(0, 7):\n",
    "    print(\"assign outres[?] = board[X][1] && board[X][2] && board[X][3] && board[X][4] && board[X][5];\".replace(\"X\", str(i)))"
   ]
  },
  {
   "cell_type": "code",
   "execution_count": 7,
   "metadata": {
    "scrolled": false
   },
   "outputs": [
    {
     "name": "stdout",
     "output_type": "stream",
     "text": [
      "assign outres[?] = board[0][2] && board[0][3] && board[0][4] && board[0][5] && board[0][6];\n",
      "assign outres[?] = board[1][2] && board[1][3] && board[1][4] && board[1][5] && board[1][6];\n",
      "assign outres[?] = board[2][2] && board[2][3] && board[2][4] && board[2][5] && board[2][6];\n",
      "assign outres[?] = board[3][2] && board[3][3] && board[3][4] && board[3][5] && board[3][6];\n",
      "assign outres[?] = board[4][2] && board[4][3] && board[4][4] && board[4][5] && board[4][6];\n",
      "assign outres[?] = board[5][2] && board[5][3] && board[5][4] && board[5][5] && board[5][6];\n",
      "assign outres[?] = board[6][2] && board[6][3] && board[6][4] && board[6][5] && board[6][6];\n"
     ]
    }
   ],
   "source": [
    "for i in range(0, 7):\n",
    "    print(\"assign outres[?] = board[X][2] && board[X][3] && board[X][4] && board[X][5] && board[X][6];\".replace(\"X\", str(i)))"
   ]
  },
  {
   "cell_type": "code",
   "execution_count": 8,
   "metadata": {},
   "outputs": [
    {
     "ename": "TypeError",
     "evalue": "can only concatenate list (not \"int\") to list",
     "output_type": "error",
     "traceback": [
      "\u001b[0;31m---------------------------------------------------------------------------\u001b[0m",
      "\u001b[0;31mTypeError\u001b[0m                                 Traceback (most recent call last)",
      "\u001b[0;32m<ipython-input-8-23dcd84b55e9>\u001b[0m in \u001b[0;36m<module>\u001b[0;34m\u001b[0m\n\u001b[0;32m----> 1\u001b[0;31m \u001b[0;34m[\u001b[0m\u001b[0;36m1\u001b[0m\u001b[0;34m,\u001b[0m \u001b[0;36m2\u001b[0m\u001b[0;34m,\u001b[0m \u001b[0;36m3\u001b[0m\u001b[0;34m,\u001b[0m \u001b[0;36m4\u001b[0m\u001b[0;34m,\u001b[0m \u001b[0;36m5\u001b[0m\u001b[0;34m]\u001b[0m \u001b[0;34m+\u001b[0m \u001b[0;36m1\u001b[0m\u001b[0;34m\u001b[0m\u001b[0m\n\u001b[0m",
      "\u001b[0;31mTypeError\u001b[0m: can only concatenate list (not \"int\") to list"
     ]
    }
   ],
   "source": [
    "for i in range(0, 7):\n",
    "    print(\"assign outres[?] = board[X][Y] && board[X][Y] && board[X][4] && board[X][5] && board[X][6];\".replace(\"X\", str(i)))"
   ]
  },
  {
   "cell_type": "code",
   "execution_count": null,
   "metadata": {},
   "outputs": [],
   "source": []
  }
 ],
 "metadata": {
  "kernelspec": {
   "display_name": "Python 3",
   "language": "python",
   "name": "python3"
  },
  "language_info": {
   "codemirror_mode": {
    "name": "ipython",
    "version": 3
   },
   "file_extension": ".py",
   "mimetype": "text/x-python",
   "name": "python",
   "nbconvert_exporter": "python",
   "pygments_lexer": "ipython3",
   "version": "3.7.0"
  }
 },
 "nbformat": 4,
 "nbformat_minor": 2
}
